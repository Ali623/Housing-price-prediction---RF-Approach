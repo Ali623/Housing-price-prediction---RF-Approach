{
 "cells": [
  {
   "cell_type": "code",
   "execution_count": 1,
   "id": "cdb77925",
   "metadata": {
    "_cell_guid": "b1076dfc-b9ad-4769-8c92-a6c4dae69d19",
    "_uuid": "8f2839f25d086af736a60e9eeb907d3b93b6e0e5",
    "execution": {
     "iopub.execute_input": "2022-12-06T13:55:07.131140Z",
     "iopub.status.busy": "2022-12-06T13:55:07.130336Z",
     "iopub.status.idle": "2022-12-06T13:55:07.151449Z",
     "shell.execute_reply": "2022-12-06T13:55:07.150588Z"
    },
    "papermill": {
     "duration": 0.034719,
     "end_time": "2022-12-06T13:55:07.154590",
     "exception": false,
     "start_time": "2022-12-06T13:55:07.119871",
     "status": "completed"
    },
    "tags": []
   },
   "outputs": [
    {
     "name": "stdout",
     "output_type": "stream",
     "text": [
      "/kaggle/input/house-prices-advanced-regression-techniques/sample_submission.csv\n",
      "/kaggle/input/house-prices-advanced-regression-techniques/data_description.txt\n",
      "/kaggle/input/house-prices-advanced-regression-techniques/train.csv\n",
      "/kaggle/input/house-prices-advanced-regression-techniques/test.csv\n"
     ]
    }
   ],
   "source": [
    "# This Python 3 environment comes with many helpful analytics libraries installed\n",
    "# It is defined by the kaggle/python Docker image: https://github.com/kaggle/docker-python\n",
    "# For example, here's several helpful packages to load\n",
    "\n",
    "import numpy as np # linear algebra\n",
    "import pandas as pd # data processing, CSV file I/O (e.g. pd.read_csv)\n",
    "\n",
    "# Input data files are available in the read-only \"../input/\" directory\n",
    "# For example, running this (by clicking run or pressing Shift+Enter) will list all files under the input directory\n",
    "\n",
    "import os\n",
    "for dirname, _, filenames in os.walk('/kaggle/input'):\n",
    "    for filename in filenames:\n",
    "        print(os.path.join(dirname, filename))\n",
    "\n",
    "# You can write up to 20GB to the current directory (/kaggle/working/) that gets preserved as output when you create a version using \"Save & Run All\" \n",
    "# You can also write temporary files to /kaggle/temp/, but they won't be saved outside of the current session"
   ]
  },
  {
   "cell_type": "code",
   "execution_count": 2,
   "id": "6afce0dc",
   "metadata": {
    "execution": {
     "iopub.execute_input": "2022-12-06T13:55:07.168503Z",
     "iopub.status.busy": "2022-12-06T13:55:07.168193Z",
     "iopub.status.idle": "2022-12-06T13:55:07.229649Z",
     "shell.execute_reply": "2022-12-06T13:55:07.228804Z"
    },
    "papermill": {
     "duration": 0.069831,
     "end_time": "2022-12-06T13:55:07.231759",
     "exception": false,
     "start_time": "2022-12-06T13:55:07.161928",
     "status": "completed"
    },
    "tags": []
   },
   "outputs": [],
   "source": [
    "train=pd.read_csv(\"/kaggle/input/house-prices-advanced-regression-techniques/train.csv\")\n",
    "test=pd.read_csv(\"/kaggle/input/house-prices-advanced-regression-techniques/test.csv\")"
   ]
  },
  {
   "cell_type": "code",
   "execution_count": 3,
   "id": "648cb97f",
   "metadata": {
    "execution": {
     "iopub.execute_input": "2022-12-06T13:55:07.240731Z",
     "iopub.status.busy": "2022-12-06T13:55:07.240429Z",
     "iopub.status.idle": "2022-12-06T13:55:07.254646Z",
     "shell.execute_reply": "2022-12-06T13:55:07.253689Z"
    },
    "papermill": {
     "duration": 0.021065,
     "end_time": "2022-12-06T13:55:07.256797",
     "exception": false,
     "start_time": "2022-12-06T13:55:07.235732",
     "status": "completed"
    },
    "tags": []
   },
   "outputs": [],
   "source": [
    "train[\"LotFrontage\"].fillna(train[\"LotFrontage\"].mean(),inplace=True)\n",
    "train.drop([\"Alley\",\"Fence\",\"PoolQC\",\"MiscFeature\",\"FireplaceQu\"],axis=1,inplace=True)"
   ]
  },
  {
   "cell_type": "code",
   "execution_count": 4,
   "id": "a376fff1",
   "metadata": {
    "execution": {
     "iopub.execute_input": "2022-12-06T13:55:07.265940Z",
     "iopub.status.busy": "2022-12-06T13:55:07.265056Z",
     "iopub.status.idle": "2022-12-06T13:55:07.287679Z",
     "shell.execute_reply": "2022-12-06T13:55:07.286822Z"
    },
    "papermill": {
     "duration": 0.029203,
     "end_time": "2022-12-06T13:55:07.289726",
     "exception": false,
     "start_time": "2022-12-06T13:55:07.260523",
     "status": "completed"
    },
    "tags": []
   },
   "outputs": [],
   "source": [
    "train[\"Electrical\"].fillna(train[\"Electrical\"].mode()[0],inplace=True)\n",
    "train[\"MasVnrType\"].fillna(train[\"MasVnrType\"].mode()[0],inplace=True)\n",
    "train[\"MasVnrArea\"].fillna(train[\"MasVnrArea\"].mode()[0],inplace=True)\n",
    "train[\"BsmtQual\"].fillna(train[\"BsmtQual\"].mode()[0],inplace=True)\n",
    "train[\"BsmtCond\"].fillna(train[\"BsmtCond\"].mode()[0],inplace=True)\n",
    "train[\"BsmtExposure\"].fillna(train[\"BsmtExposure\"].mode()[0],inplace=True)\n",
    "train[\"BsmtFinType1\"].fillna(train[\"BsmtFinType1\"].mode()[0],inplace=True)\n",
    "train[\"BsmtFinType2\"].fillna(train[\"BsmtFinType2\"].mode()[0],inplace=True)\n",
    "train[\"GarageType\"].fillna(train[\"GarageType\"].mode()[0],inplace=True)\n",
    "train[\"GarageQual\"].fillna(train[\"GarageQual\"].mode()[0],inplace=True)\n",
    "train[\"GarageYrBlt\"].fillna(train[\"GarageYrBlt\"].mode()[0],inplace=True)\n",
    "train[\"GarageFinish\"].fillna(train[\"GarageFinish\"].mode()[0],inplace=True)\n",
    "train[\"GarageCond\"].fillna(train[\"GarageCond\"].mode()[0],inplace=True)"
   ]
  },
  {
   "cell_type": "code",
   "execution_count": 5,
   "id": "86c1adef",
   "metadata": {
    "execution": {
     "iopub.execute_input": "2022-12-06T13:55:07.298696Z",
     "iopub.status.busy": "2022-12-06T13:55:07.298420Z",
     "iopub.status.idle": "2022-12-06T13:55:07.317818Z",
     "shell.execute_reply": "2022-12-06T13:55:07.316976Z"
    },
    "papermill": {
     "duration": 0.025929,
     "end_time": "2022-12-06T13:55:07.319737",
     "exception": false,
     "start_time": "2022-12-06T13:55:07.293808",
     "status": "completed"
    },
    "tags": []
   },
   "outputs": [],
   "source": [
    "test[\"LotFrontage\"].fillna(test[\"LotFrontage\"].mean(),inplace=True)\n",
    "test.drop([\"Alley\",\"Fence\",\"PoolQC\",\"MiscFeature\",\"FireplaceQu\"],axis=1,inplace=True)\n",
    "test[\"Electrical\"].fillna(test[\"Electrical\"].mode()[0],inplace=True)\n",
    "test[\"MasVnrType\"].fillna(test[\"MasVnrType\"].mode()[0],inplace=True)\n",
    "test[\"MasVnrArea\"].fillna(test[\"MasVnrArea\"].mode()[0],inplace=True)\n",
    "test[\"BsmtQual\"].fillna(test[\"BsmtQual\"].mode()[0],inplace=True)\n",
    "test[\"BsmtCond\"].fillna(test[\"BsmtCond\"].mode()[0],inplace=True)\n",
    "test[\"BsmtExposure\"].fillna(test[\"BsmtExposure\"].mode()[0],inplace=True)\n",
    "test[\"BsmtFinType1\"].fillna(test[\"BsmtFinType1\"].mode()[0],inplace=True)\n",
    "test[\"BsmtFinType2\"].fillna(test[\"BsmtFinType2\"].mode()[0],inplace=True)\n",
    "test[\"GarageType\"].fillna(test[\"GarageType\"].mode()[0],inplace=True)\n",
    "test[\"GarageQual\"].fillna(test[\"GarageQual\"].mode()[0],inplace=True)\n",
    "test[\"GarageYrBlt\"].fillna(test[\"GarageYrBlt\"].mode()[0],inplace=True)\n",
    "test[\"GarageFinish\"].fillna(test[\"GarageFinish\"].mode()[0],inplace=True)\n",
    "test[\"GarageCond\"].fillna(test[\"GarageCond\"].mode()[0],inplace=True)"
   ]
  },
  {
   "cell_type": "code",
   "execution_count": 6,
   "id": "3116a8ba",
   "metadata": {
    "execution": {
     "iopub.execute_input": "2022-12-06T13:55:07.328793Z",
     "iopub.status.busy": "2022-12-06T13:55:07.328192Z",
     "iopub.status.idle": "2022-12-06T13:55:07.345222Z",
     "shell.execute_reply": "2022-12-06T13:55:07.344389Z"
    },
    "papermill": {
     "duration": 0.02382,
     "end_time": "2022-12-06T13:55:07.347335",
     "exception": false,
     "start_time": "2022-12-06T13:55:07.323515",
     "status": "completed"
    },
    "tags": []
   },
   "outputs": [],
   "source": [
    "test[\"MSZoning\"].fillna(test[\"MSZoning\"].mode()[0],inplace=True)\n",
    "test[\"Utilities\"].fillna(test[\"Utilities\"].mode()[0],inplace=True)\n",
    "test[\"Exterior1st\"].fillna(test[\"Exterior1st\"].mode()[0],inplace=True)\n",
    "test[\"Exterior2nd\"].fillna(test[\"Exterior2nd\"].mode()[0],inplace=True)\n",
    "test[\"BsmtFinSF1\"].fillna(test[\"BsmtFinSF1\"].mode()[0],inplace=True)\n",
    "test[\"BsmtFinSF2\"].fillna(test[\"BsmtFinSF2\"].mode()[0],inplace=True)\n",
    "test[\"BsmtUnfSF\"].fillna(test[\"BsmtUnfSF\"].mode()[0],inplace=True)\n",
    "test[\"TotalBsmtSF\"].fillna(test[\"TotalBsmtSF\"].mode()[0],inplace=True)\n",
    "test[\"BsmtFullBath\"].fillna(test[\"BsmtFullBath\"].mode()[0],inplace=True)\n",
    "test[\"BsmtHalfBath\"].fillna(test[\"BsmtHalfBath\"].mode()[0],inplace=True)\n",
    "test[\"KitchenQual\"].fillna(test[\"KitchenQual\"].mode()[0],inplace=True)\n",
    "test[\"Functional\"].fillna(test[\"Functional\"].mode()[0],inplace=True)\n",
    "test[\"GarageCars\"].fillna(test[\"GarageCars\"].mode()[0],inplace=True)\n",
    "test[\"GarageArea\"].fillna(test[\"GarageArea\"].mode()[0],inplace=True)\n",
    "test[\"SaleType\"].fillna(test[\"SaleType\"].mode()[0],inplace=True)"
   ]
  },
  {
   "cell_type": "code",
   "execution_count": 7,
   "id": "0d71eb21",
   "metadata": {
    "execution": {
     "iopub.execute_input": "2022-12-06T13:55:07.357495Z",
     "iopub.status.busy": "2022-12-06T13:55:07.356068Z",
     "iopub.status.idle": "2022-12-06T13:55:07.373369Z",
     "shell.execute_reply": "2022-12-06T13:55:07.372571Z"
    },
    "papermill": {
     "duration": 0.024055,
     "end_time": "2022-12-06T13:55:07.375312",
     "exception": false,
     "start_time": "2022-12-06T13:55:07.351257",
     "status": "completed"
    },
    "tags": []
   },
   "outputs": [],
   "source": [
    "X=train[['MSSubClass', 'MSZoning', 'LotFrontage', 'LotArea', 'Street',\n",
    "       'LotShape', 'LandContour', 'Utilities', 'LotConfig', 'LandSlope',\n",
    "       'Neighborhood', 'Condition1', 'Condition2', 'BldgType', 'HouseStyle',\n",
    "       'OverallQual', 'OverallCond', 'YearBuilt', 'YearRemodAdd', 'RoofStyle',\n",
    "       'RoofMatl', 'Exterior1st', 'Exterior2nd', 'MasVnrType', 'MasVnrArea',\n",
    "       'ExterQual', 'ExterCond', 'Foundation', 'BsmtQual', 'BsmtCond',\n",
    "       'BsmtExposure', 'BsmtFinType1', 'BsmtFinSF1', 'BsmtFinType2',\n",
    "       'BsmtFinSF2', 'BsmtUnfSF', 'TotalBsmtSF', 'Heating', 'HeatingQC',\n",
    "       'CentralAir', 'Electrical', '1stFlrSF', '2ndFlrSF', 'LowQualFinSF',\n",
    "       'GrLivArea', 'BsmtFullBath', 'BsmtHalfBath', 'FullBath', 'HalfBath',\n",
    "       'BedroomAbvGr', 'KitchenAbvGr', 'KitchenQual', 'TotRmsAbvGrd',\n",
    "       'Functional', 'Fireplaces', 'GarageType', 'GarageYrBlt', 'GarageFinish',\n",
    "       'GarageCars', 'GarageArea', 'GarageQual', 'GarageCond', 'PavedDrive',\n",
    "       'WoodDeckSF', 'OpenPorchSF', 'EnclosedPorch', '3SsnPorch',\n",
    "       'ScreenPorch', 'PoolArea', 'MiscVal', 'MoSold', 'YrSold', 'SaleType',\n",
    "       'SaleCondition']]\n",
    "y=train[['SalePrice']]\n",
    "X_test=test[['MSSubClass', 'MSZoning', 'LotFrontage', 'LotArea', 'Street',\n",
    "       'LotShape', 'LandContour', 'Utilities', 'LotConfig', 'LandSlope',\n",
    "       'Neighborhood', 'Condition1', 'Condition2', 'BldgType', 'HouseStyle',\n",
    "       'OverallQual', 'OverallCond', 'YearBuilt', 'YearRemodAdd', 'RoofStyle',\n",
    "       'RoofMatl', 'Exterior1st', 'Exterior2nd', 'MasVnrType', 'MasVnrArea',\n",
    "       'ExterQual', 'ExterCond', 'Foundation', 'BsmtQual', 'BsmtCond',\n",
    "       'BsmtExposure', 'BsmtFinType1', 'BsmtFinSF1', 'BsmtFinType2',\n",
    "       'BsmtFinSF2', 'BsmtUnfSF', 'TotalBsmtSF', 'Heating', 'HeatingQC',\n",
    "       'CentralAir', 'Electrical', '1stFlrSF', '2ndFlrSF', 'LowQualFinSF',\n",
    "       'GrLivArea', 'BsmtFullBath', 'BsmtHalfBath', 'FullBath', 'HalfBath',\n",
    "       'BedroomAbvGr', 'KitchenAbvGr', 'KitchenQual', 'TotRmsAbvGrd',\n",
    "       'Functional', 'Fireplaces', 'GarageType', 'GarageYrBlt', 'GarageFinish',\n",
    "       'GarageCars', 'GarageArea', 'GarageQual', 'GarageCond', 'PavedDrive',\n",
    "       'WoodDeckSF', 'OpenPorchSF', 'EnclosedPorch', '3SsnPorch',\n",
    "       'ScreenPorch', 'PoolArea', 'MiscVal', 'MoSold', 'YrSold', 'SaleType',\n",
    "       'SaleCondition']]"
   ]
  },
  {
   "cell_type": "code",
   "execution_count": 8,
   "id": "c6ccef9b",
   "metadata": {
    "execution": {
     "iopub.execute_input": "2022-12-06T13:55:07.384123Z",
     "iopub.status.busy": "2022-12-06T13:55:07.383868Z",
     "iopub.status.idle": "2022-12-06T13:55:08.214171Z",
     "shell.execute_reply": "2022-12-06T13:55:08.213222Z"
    },
    "papermill": {
     "duration": 0.83748,
     "end_time": "2022-12-06T13:55:08.216698",
     "exception": false,
     "start_time": "2022-12-06T13:55:07.379218",
     "status": "completed"
    },
    "tags": []
   },
   "outputs": [],
   "source": [
    "from sklearn.preprocessing import StandardScaler"
   ]
  },
  {
   "cell_type": "code",
   "execution_count": 9,
   "id": "c837ffc4",
   "metadata": {
    "execution": {
     "iopub.execute_input": "2022-12-06T13:55:08.227172Z",
     "iopub.status.busy": "2022-12-06T13:55:08.226277Z",
     "iopub.status.idle": "2022-12-06T13:55:08.245294Z",
     "shell.execute_reply": "2022-12-06T13:55:08.244364Z"
    },
    "papermill": {
     "duration": 0.02643,
     "end_time": "2022-12-06T13:55:08.247386",
     "exception": false,
     "start_time": "2022-12-06T13:55:08.220956",
     "status": "completed"
    },
    "tags": []
   },
   "outputs": [],
   "source": [
    "integer_columns = X.select_dtypes(include=['int64']).columns\n",
    "float_columns = X.select_dtypes(include=['float64']).columns\n",
    "X_train_scaled = X.copy()\n",
    "features = X_train_scaled[integer_columns]\n",
    "scaler = StandardScaler().fit(features.values)\n",
    "features = scaler.transform(features.values)\n",
    "X_train_scaled[integer_columns] = features\n",
    "features = X_train_scaled[float_columns]\n",
    "scaler = StandardScaler().fit(features.values)\n",
    "features = scaler.transform(features.values)\n",
    "X_train_scaled[float_columns] = features"
   ]
  },
  {
   "cell_type": "code",
   "execution_count": 10,
   "id": "ed7f122b",
   "metadata": {
    "execution": {
     "iopub.execute_input": "2022-12-06T13:55:08.256952Z",
     "iopub.status.busy": "2022-12-06T13:55:08.256664Z",
     "iopub.status.idle": "2022-12-06T13:55:08.274010Z",
     "shell.execute_reply": "2022-12-06T13:55:08.273145Z"
    },
    "papermill": {
     "duration": 0.024457,
     "end_time": "2022-12-06T13:55:08.276102",
     "exception": false,
     "start_time": "2022-12-06T13:55:08.251645",
     "status": "completed"
    },
    "tags": []
   },
   "outputs": [],
   "source": [
    "integer_columns = X_test.select_dtypes(include=['int64']).columns\n",
    "float_columns = X_test.select_dtypes(include=['float64']).columns\n",
    "X_test_scaled = X_test.copy()\n",
    "features = X_test_scaled[integer_columns]\n",
    "scaler = StandardScaler().fit(features.values)\n",
    "features = scaler.transform(features.values)\n",
    "X_test_scaled[integer_columns] = features\n",
    "features = X_test_scaled[float_columns]\n",
    "scaler = StandardScaler().fit(features.values)\n",
    "features = scaler.transform(features.values)\n",
    "X_test_scaled[float_columns] = features"
   ]
  },
  {
   "cell_type": "code",
   "execution_count": 11,
   "id": "6866e196",
   "metadata": {
    "execution": {
     "iopub.execute_input": "2022-12-06T13:55:08.286119Z",
     "iopub.status.busy": "2022-12-06T13:55:08.285276Z",
     "iopub.status.idle": "2022-12-06T13:55:08.291936Z",
     "shell.execute_reply": "2022-12-06T13:55:08.291085Z"
    },
    "papermill": {
     "duration": 0.013625,
     "end_time": "2022-12-06T13:55:08.293952",
     "exception": false,
     "start_time": "2022-12-06T13:55:08.280327",
     "status": "completed"
    },
    "tags": []
   },
   "outputs": [],
   "source": [
    "X=X_train_scaled.copy()\n",
    "X_test=X_test_scaled.copy()"
   ]
  },
  {
   "cell_type": "code",
   "execution_count": 12,
   "id": "bf51f0d3",
   "metadata": {
    "execution": {
     "iopub.execute_input": "2022-12-06T13:55:08.303432Z",
     "iopub.status.busy": "2022-12-06T13:55:08.303161Z",
     "iopub.status.idle": "2022-12-06T13:55:08.367662Z",
     "shell.execute_reply": "2022-12-06T13:55:08.366510Z"
    },
    "papermill": {
     "duration": 0.072071,
     "end_time": "2022-12-06T13:55:08.370185",
     "exception": false,
     "start_time": "2022-12-06T13:55:08.298114",
     "status": "completed"
    },
    "tags": []
   },
   "outputs": [],
   "source": [
    "X=pd.get_dummies(X)\n",
    "X_test=pd.get_dummies(X_test)\n",
    "y=np.asarray(y).ravel()"
   ]
  },
  {
   "cell_type": "code",
   "execution_count": 13,
   "id": "5b3691e5",
   "metadata": {
    "execution": {
     "iopub.execute_input": "2022-12-06T13:55:08.380168Z",
     "iopub.status.busy": "2022-12-06T13:55:08.379862Z",
     "iopub.status.idle": "2022-12-06T13:55:08.403273Z",
     "shell.execute_reply": "2022-12-06T13:55:08.402438Z"
    },
    "papermill": {
     "duration": 0.030707,
     "end_time": "2022-12-06T13:55:08.405371",
     "exception": false,
     "start_time": "2022-12-06T13:55:08.374664",
     "status": "completed"
    },
    "tags": []
   },
   "outputs": [],
   "source": [
    "result = set(X)-set(X).intersection(X_test)\n",
    "result=list(result)\n",
    "X_t=X_test.copy()\n",
    "for i in result:\n",
    "    X_t[result]= 0\n",
    "\n",
    "X_test=X_t.copy()"
   ]
  },
  {
   "cell_type": "code",
   "execution_count": 14,
   "id": "5446172c",
   "metadata": {
    "execution": {
     "iopub.execute_input": "2022-12-06T13:55:08.414931Z",
     "iopub.status.busy": "2022-12-06T13:55:08.414663Z",
     "iopub.status.idle": "2022-12-06T14:08:36.769585Z",
     "shell.execute_reply": "2022-12-06T14:08:36.768415Z"
    },
    "papermill": {
     "duration": 808.36548,
     "end_time": "2022-12-06T14:08:36.775116",
     "exception": false,
     "start_time": "2022-12-06T13:55:08.409636",
     "status": "completed"
    },
    "tags": []
   },
   "outputs": [
    {
     "name": "stderr",
     "output_type": "stream",
     "text": [
      "/opt/conda/lib/python3.7/site-packages/sklearn/model_selection/_split.py:680: UserWarning: The least populated class in y has only 1 members, which is less than n_splits=5.\n",
      "  UserWarning,\n"
     ]
    },
    {
     "data": {
      "text/plain": [
       "GridSearchCV(cv=5, estimator=RandomForestClassifier(random_state=42),\n",
       "             param_grid={'criterion': ['gini', 'entropy'],\n",
       "                         'max_depth': [4, 5, 6, 7, 8],\n",
       "                         'max_features': ['auto', 'sqrt', 'log2'],\n",
       "                         'n_estimators': [200, 500]})"
      ]
     },
     "execution_count": 14,
     "metadata": {},
     "output_type": "execute_result"
    }
   ],
   "source": [
    "from sklearn.model_selection import GridSearchCV\n",
    "from sklearn.ensemble import RandomForestClassifier\n",
    "rfc=RandomForestClassifier(random_state=42)\n",
    "param_grid = { \n",
    "    'n_estimators': [200, 500],\n",
    "    'max_features': ['auto', 'sqrt', 'log2'],\n",
    "    'max_depth' : [4,5,6,7,8],\n",
    "    'criterion' :['gini', 'entropy']\n",
    "}\n",
    "CV_rfc = GridSearchCV(estimator=rfc, param_grid=param_grid, cv= 5)\n",
    "CV_rfc.fit(X, y)"
   ]
  },
  {
   "cell_type": "code",
   "execution_count": 15,
   "id": "7180261e",
   "metadata": {
    "execution": {
     "iopub.execute_input": "2022-12-06T14:08:36.786225Z",
     "iopub.status.busy": "2022-12-06T14:08:36.785908Z",
     "iopub.status.idle": "2022-12-06T14:08:36.792950Z",
     "shell.execute_reply": "2022-12-06T14:08:36.791865Z"
    },
    "papermill": {
     "duration": 0.015019,
     "end_time": "2022-12-06T14:08:36.795118",
     "exception": false,
     "start_time": "2022-12-06T14:08:36.780099",
     "status": "completed"
    },
    "tags": []
   },
   "outputs": [
    {
     "data": {
      "text/plain": [
       "{'criterion': 'entropy',\n",
       " 'max_depth': 5,\n",
       " 'max_features': 'auto',\n",
       " 'n_estimators': 200}"
      ]
     },
     "execution_count": 15,
     "metadata": {},
     "output_type": "execute_result"
    }
   ],
   "source": [
    "CV_rfc.best_params_"
   ]
  },
  {
   "cell_type": "code",
   "execution_count": 16,
   "id": "2748ec6e",
   "metadata": {
    "execution": {
     "iopub.execute_input": "2022-12-06T14:08:36.805944Z",
     "iopub.status.busy": "2022-12-06T14:08:36.805347Z",
     "iopub.status.idle": "2022-12-06T14:08:39.322668Z",
     "shell.execute_reply": "2022-12-06T14:08:39.321485Z"
    },
    "papermill": {
     "duration": 2.525176,
     "end_time": "2022-12-06T14:08:39.324981",
     "exception": false,
     "start_time": "2022-12-06T14:08:36.799805",
     "status": "completed"
    },
    "tags": []
   },
   "outputs": [
    {
     "data": {
      "text/plain": [
       "RandomForestClassifier(criterion='entropy', max_depth=5, n_estimators=200,\n",
       "                       random_state=42)"
      ]
     },
     "execution_count": 16,
     "metadata": {},
     "output_type": "execute_result"
    }
   ],
   "source": [
    "rfc1=RandomForestClassifier(random_state=42, max_features='auto', n_estimators= 200, max_depth=5, criterion='entropy')\n",
    "rfc1.fit(X, y)"
   ]
  },
  {
   "cell_type": "code",
   "execution_count": 17,
   "id": "62bfa1a7",
   "metadata": {
    "execution": {
     "iopub.execute_input": "2022-12-06T14:08:39.337665Z",
     "iopub.status.busy": "2022-12-06T14:08:39.336727Z",
     "iopub.status.idle": "2022-12-06T14:08:39.914935Z",
     "shell.execute_reply": "2022-12-06T14:08:39.913868Z"
    },
    "papermill": {
     "duration": 0.587403,
     "end_time": "2022-12-06T14:08:39.917563",
     "exception": false,
     "start_time": "2022-12-06T14:08:39.330160",
     "status": "completed"
    },
    "tags": []
   },
   "outputs": [
    {
     "name": "stderr",
     "output_type": "stream",
     "text": [
      "/opt/conda/lib/python3.7/site-packages/sklearn/base.py:493: FutureWarning: The feature names should match those that were passed during fit. Starting version 1.2, an error will be raised.\n",
      "Feature names must be in the same order as they were in fit.\n",
      "\n",
      "  warnings.warn(message, FutureWarning)\n"
     ]
    }
   ],
   "source": [
    "preds=rfc1.predict(X_test)"
   ]
  },
  {
   "cell_type": "code",
   "execution_count": 18,
   "id": "e6cf5ebe",
   "metadata": {
    "execution": {
     "iopub.execute_input": "2022-12-06T14:08:39.928966Z",
     "iopub.status.busy": "2022-12-06T14:08:39.928664Z",
     "iopub.status.idle": "2022-12-06T14:08:39.934986Z",
     "shell.execute_reply": "2022-12-06T14:08:39.933946Z"
    },
    "papermill": {
     "duration": 0.015382,
     "end_time": "2022-12-06T14:08:39.938129",
     "exception": false,
     "start_time": "2022-12-06T14:08:39.922747",
     "status": "completed"
    },
    "tags": []
   },
   "outputs": [
    {
     "data": {
      "text/plain": [
       "array([110000, 165000, 175000, ..., 140000, 140000, 250000])"
      ]
     },
     "execution_count": 18,
     "metadata": {},
     "output_type": "execute_result"
    }
   ],
   "source": [
    "preds"
   ]
  },
  {
   "cell_type": "code",
   "execution_count": 19,
   "id": "a223197e",
   "metadata": {
    "execution": {
     "iopub.execute_input": "2022-12-06T14:08:39.949295Z",
     "iopub.status.busy": "2022-12-06T14:08:39.949018Z",
     "iopub.status.idle": "2022-12-06T14:08:39.959551Z",
     "shell.execute_reply": "2022-12-06T14:08:39.958502Z"
    },
    "papermill": {
     "duration": 0.019179,
     "end_time": "2022-12-06T14:08:39.962428",
     "exception": false,
     "start_time": "2022-12-06T14:08:39.943249",
     "status": "completed"
    },
    "tags": []
   },
   "outputs": [
    {
     "name": "stdout",
     "output_type": "stream",
     "text": [
      "Your submission was successfully saved!\n"
     ]
    }
   ],
   "source": [
    "# Save to CSV file\n",
    "output = pd.DataFrame({'Id': test.Id,'SalePrice': preds.ravel()})\n",
    "output.to_csv('submission.csv', index=False)\n",
    "print(\"Your submission was successfully saved!\")"
   ]
  },
  {
   "cell_type": "code",
   "execution_count": null,
   "id": "51778516",
   "metadata": {
    "papermill": {
     "duration": 0.004962,
     "end_time": "2022-12-06T14:08:39.973023",
     "exception": false,
     "start_time": "2022-12-06T14:08:39.968061",
     "status": "completed"
    },
    "tags": []
   },
   "outputs": [],
   "source": []
  },
  {
   "cell_type": "code",
   "execution_count": null,
   "id": "6013720d",
   "metadata": {
    "papermill": {
     "duration": 0.004624,
     "end_time": "2022-12-06T14:08:39.982626",
     "exception": false,
     "start_time": "2022-12-06T14:08:39.978002",
     "status": "completed"
    },
    "tags": []
   },
   "outputs": [],
   "source": []
  }
 ],
 "metadata": {
  "kernelspec": {
   "display_name": "Python 3",
   "language": "python",
   "name": "python3"
  },
  "language_info": {
   "codemirror_mode": {
    "name": "ipython",
    "version": 3
   },
   "file_extension": ".py",
   "mimetype": "text/x-python",
   "name": "python",
   "nbconvert_exporter": "python",
   "pygments_lexer": "ipython3",
   "version": "3.7.12"
  },
  "papermill": {
   "default_parameters": {},
   "duration": 821.317281,
   "end_time": "2022-12-06T14:08:40.609070",
   "environment_variables": {},
   "exception": null,
   "input_path": "__notebook__.ipynb",
   "output_path": "__notebook__.ipynb",
   "parameters": {},
   "start_time": "2022-12-06T13:54:59.291789",
   "version": "2.3.4"
  }
 },
 "nbformat": 4,
 "nbformat_minor": 5
}
